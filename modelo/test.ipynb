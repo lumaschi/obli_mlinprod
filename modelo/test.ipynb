{
 "cells": [
  {
   "cell_type": "code",
   "execution_count": 1,
   "metadata": {},
   "outputs": [
    {
     "name": "stdout",
     "output_type": "stream",
     "text": [
      "{'status': 'OK'}\n"
     ]
    }
   ],
   "source": [
    "import requests\n",
    "\n",
    "response = requests.get(\"http://0.0.0.0:8080/health\")\n",
    "\n",
    "if response.status_code == 200:\n",
    "    data = response.json()\n",
    "    print(data)\n",
    "else:\n",
    "    print(\"Error en la solicitud. Código de estado:\", response.status_code)\n"
   ]
  },
  {
   "cell_type": "code",
   "execution_count": 2,
   "metadata": {},
   "outputs": [],
   "source": [
    "# ! pip install tensorflow"
   ]
  },
  {
   "cell_type": "code",
   "execution_count": null,
   "metadata": {},
   "outputs": [],
   "source": [
    "import requests\n",
    "from PIL import Image\n",
    "import numpy as np\n",
    "import io\n",
    "import tensorflow as tf\n",
    "\n",
    "# Abre tu imagen\n",
    "image = Image.open(\"/Users/lucianamaschi/Documents/Master Big Data/Machine Learning en Producción/Práctico/Obligatorio/modelo/images/casa.jpeg\")\n",
    "\n",
    "# Redimensionamos la imagen a 32x32\n",
    "image = image.resize((32, 32))\n",
    "\n",
    "# Convertimos la imagen a un array de numpy y expandimos las dimensiones\n",
    "image_np = np.expand_dims(np.array(image), axis=0)\n",
    "\n",
    "# Convertimos la imagen de numpy a bytes\n",
    "image_bytes = io.BytesIO()\n",
    "image.save(image_bytes, format='JPEG')\n",
    "\n",
    "# Configura el URL de tu API. Reemplaza <dns-name-label> y <region> con los tuyos.\n",
    "url = \"http://0.0.0.0:8080/predict\"\n",
    "\n",
    "# Configura los datos de la imagen para la solicitud\n",
    "img_data = {\"image_file\": image_bytes.getvalue()}\n",
    "\n",
    "# Haz una solicitud POST a la API con la imagen\n",
    "response = requests.post(url, files=img_data)\n",
    "\n",
    "# Imprime la respuesta\n",
    "print(response.json())\n",
    "\n",
    "\n",
    "\n",
    "\n",
    "\n",
    "# image = np.array(image)\n",
    "# image = tf.image.resize(image, (240, 320))\n",
    "# image = tf.cast(image, dtype=tf.float32)\n",
    "# image = image / 255.0\n",
    "# image=np.expand_dims(image, axis=0)\n",
    "\n",
    "# # Redimensionamos la imagen a 32x32\n",
    "# image = image.resize((32, 32))\n",
    "\n",
    "# # Convertimos la imagen a un array de numpy y expandimos las dimensiones\n",
    "# image_np = np.expand_dims(np.array(image), axis=0)\n",
    "\n",
    "# # Convertimos la imagen de numpy a bytes\n",
    "# image_bytes = io.BytesIO()\n",
    "# image.save(image_bytes, format='JPEG')\n",
    "\n",
    "# # Configura el URL de tu API. Reemplaza <dns-name-label> y <region> con los tuyos.\n",
    "# url = \"http://0.0.0.0:8080/predict\"\n",
    "\n",
    "# # Configura los datos de la imagen para la solicitud\n",
    "# img_data = {\"image_file\": image_bytes.getvalue()}\n",
    "# # img_data = {\"image_file\": image}\n",
    "\n",
    "\n",
    "# # Haz una solicitud POST a la API con la imagen\n",
    "# response = requests.post(url, files=img_data)\n",
    "\n",
    "# # Imprime la respuesta\n",
    "# print(response.json())"
   ]
  },
  {
   "cell_type": "code",
   "execution_count": 58,
   "metadata": {},
   "outputs": [
    {
     "name": "stdout",
     "output_type": "stream",
     "text": [
      "{'status': 'OK'}\n"
     ]
    }
   ],
   "source": [
    "# Azure GET\n",
    "\n",
    "import requests\n",
    "\n",
    "response = requests.get(\"http://20.124.245.215:8080/health\")\n",
    "\n",
    "if response.status_code == 200:\n",
    "    data = response.json()\n",
    "    print(data)\n",
    "else:\n",
    "    print(\"Error en la solicitud. Código de estado:\", response.status_code)"
   ]
  },
  {
   "cell_type": "code",
   "execution_count": 63,
   "metadata": {},
   "outputs": [
    {
     "name": "stdout",
     "output_type": "stream",
     "text": [
      "{'predicted_class': '[[0.83776563 0.16223443]]'}\n"
     ]
    }
   ],
   "source": [
    "## Ahora le pegamos a Azure\n",
    "\n",
    "import requests\n",
    "from PIL import Image\n",
    "import numpy as np\n",
    "import io\n",
    "\n",
    "# Abre tu imagen\n",
    "image = Image.open(\"/Users/lucianamaschi/Documents/Master Big Data/Machine Learning en Producción/Práctico/Obligatorio/modelo/images/apto3.jpeg\")\n",
    "\n",
    "# Redimensionamos la imagen a 32x32\n",
    "image = image.resize((32, 32))\n",
    "\n",
    "# Convertimos la imagen a un array de numpy y expandimos las dimensiones\n",
    "image_np = np.expand_dims(np.array(image), axis=0)\n",
    "\n",
    "# Convertimos la imagen de numpy a bytes\n",
    "image_bytes = io.BytesIO()\n",
    "image.save(image_bytes, format='JPEG')\n",
    "\n",
    "# Configura el URL de tu API. Reemplaza <dns-name-label> y <region> con los tuyos.\n",
    "url = \"http://20.124.245.215:8080/predict\"\n",
    "\n",
    "# Configura los datos de la imagen para la solicitud\n",
    "img_data = {\"image_file\": image_bytes.getvalue()}\n",
    "\n",
    "# Haz una solicitud POST a la API con la imagen\n",
    "response = requests.post(url, files=img_data)\n",
    "\n",
    "# Imprime la respuesta\n",
    "print(response.json())"
   ]
  },
  {
   "cell_type": "code",
   "execution_count": 57,
   "metadata": {},
   "outputs": [
    {
     "data": {
      "text/plain": [
       "'[[0.13876271, 0.8612104]]'"
      ]
     },
     "execution_count": 57,
     "metadata": {},
     "output_type": "execute_result"
    }
   ],
   "source": [
    "str([[0.13876271,0.8612104 ]])"
   ]
  },
  {
   "cell_type": "code",
   "execution_count": null,
   "metadata": {},
   "outputs": [],
   "source": []
  }
 ],
 "metadata": {
  "kernelspec": {
   "display_name": "Python 3 (ipykernel)",
   "language": "python",
   "name": "python3"
  },
  "language_info": {
   "codemirror_mode": {
    "name": "ipython",
    "version": 3
   },
   "file_extension": ".py",
   "mimetype": "text/x-python",
   "name": "python",
   "nbconvert_exporter": "python",
   "pygments_lexer": "ipython3",
   "version": "3.9.12"
  }
 },
 "nbformat": 4,
 "nbformat_minor": 2
}
