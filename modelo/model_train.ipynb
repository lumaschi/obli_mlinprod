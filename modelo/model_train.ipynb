{
 "cells": [
  {
   "cell_type": "markdown",
   "id": "07427f59-edc6-45a5-9db1-35a5fa2e2776",
   "metadata": {},
   "source": [
    "## Obligatorio"
   ]
  },
  {
   "cell_type": "code",
   "execution_count": 14,
   "id": "3df2681c-4828-463a-a038-41a02e1a4cab",
   "metadata": {},
   "outputs": [
    {
     "name": "stdout",
     "output_type": "stream",
     "text": [
      "Collecting wandb\n",
      "  Downloading wandb-0.15.4-py3-none-any.whl (2.1 MB)\n",
      "\u001b[K     |████████████████████████████████| 2.1 MB 3.7 MB/s eta 0:00:01\n",
      "\u001b[?25hCollecting appdirs>=1.4.3\n",
      "  Downloading appdirs-1.4.4-py2.py3-none-any.whl (9.6 kB)\n",
      "Requirement already satisfied: PyYAML in /anaconda/envs/azureml_py38/lib/python3.8/site-packages (from wandb) (6.0)\n",
      "Requirement already satisfied: Click!=8.0.0,>=7.0 in /anaconda/envs/azureml_py38/lib/python3.8/site-packages (from wandb) (8.1.3)\n",
      "Requirement already satisfied: typing-extensions; python_version < \"3.10\" in /anaconda/envs/azureml_py38/lib/python3.8/site-packages (from wandb) (4.4.0)\n",
      "Requirement already satisfied: GitPython!=3.1.29,>=1.0.0 in /anaconda/envs/azureml_py38/lib/python3.8/site-packages (from wandb) (3.1.30)\n",
      "Requirement already satisfied: psutil>=5.0.0 in /anaconda/envs/azureml_py38/lib/python3.8/site-packages (from wandb) (5.9.4)\n",
      "Collecting pathtools\n",
      "  Downloading pathtools-0.1.2.tar.gz (11 kB)\n",
      "Collecting setproctitle\n",
      "  Downloading setproctitle-1.3.2-cp38-cp38-manylinux_2_5_x86_64.manylinux1_x86_64.manylinux_2_17_x86_64.manylinux2014_x86_64.whl (31 kB)\n",
      "Collecting docker-pycreds>=0.4.0\n",
      "  Downloading docker_pycreds-0.4.0-py2.py3-none-any.whl (9.0 kB)\n",
      "Requirement already satisfied: requests<3,>=2.0.0 in /anaconda/envs/azureml_py38/lib/python3.8/site-packages (from wandb) (2.28.2)\n",
      "Collecting sentry-sdk>=1.0.0\n",
      "  Downloading sentry_sdk-1.26.0-py2.py3-none-any.whl (209 kB)\n",
      "\u001b[K     |████████████████████████████████| 209 kB 77.9 MB/s eta 0:00:01\n",
      "\u001b[?25hRequirement already satisfied: setuptools in /anaconda/envs/azureml_py38/lib/python3.8/site-packages (from wandb) (49.6.0)\n",
      "Requirement already satisfied: protobuf!=4.21.0,<5,>=3.12.0; python_version < \"3.9\" and sys_platform == \"linux\" in /anaconda/envs/azureml_py38/lib/python3.8/site-packages (from wandb) (3.20.1)\n",
      "Requirement already satisfied: gitdb<5,>=4.0.1 in /anaconda/envs/azureml_py38/lib/python3.8/site-packages (from GitPython!=3.1.29,>=1.0.0->wandb) (4.0.10)\n",
      "Requirement already satisfied: six>=1.4.0 in /anaconda/envs/azureml_py38/lib/python3.8/site-packages (from docker-pycreds>=0.4.0->wandb) (1.16.0)\n",
      "Requirement already satisfied: certifi>=2017.4.17 in /anaconda/envs/azureml_py38/lib/python3.8/site-packages (from requests<3,>=2.0.0->wandb) (2022.9.24)\n",
      "Requirement already satisfied: idna<4,>=2.5 in /anaconda/envs/azureml_py38/lib/python3.8/site-packages (from requests<3,>=2.0.0->wandb) (3.4)\n",
      "Requirement already satisfied: charset-normalizer<4,>=2 in /anaconda/envs/azureml_py38/lib/python3.8/site-packages (from requests<3,>=2.0.0->wandb) (3.0.1)\n",
      "Requirement already satisfied: urllib3<1.27,>=1.21.1 in /anaconda/envs/azureml_py38/lib/python3.8/site-packages (from requests<3,>=2.0.0->wandb) (1.26.14)\n",
      "Requirement already satisfied: smmap<6,>=3.0.1 in /anaconda/envs/azureml_py38/lib/python3.8/site-packages (from gitdb<5,>=4.0.1->GitPython!=3.1.29,>=1.0.0->wandb) (5.0.0)\n",
      "Building wheels for collected packages: pathtools\n",
      "  Building wheel for pathtools (setup.py) ... \u001b[?25ldone\n",
      "\u001b[?25h  Created wheel for pathtools: filename=pathtools-0.1.2-py3-none-any.whl size=8785 sha256=327b2b081aab643719d980003bd9f5521b0a45de66cc8bd4b801f1b9c98ab011\n",
      "  Stored in directory: /home/azureuser/.cache/pip/wheels/4c/8e/7e/72fbc243e1aeecae64a96875432e70d4e92f3d2d18123be004\n",
      "Successfully built pathtools\n",
      "Installing collected packages: appdirs, pathtools, setproctitle, docker-pycreds, sentry-sdk, wandb\n",
      "Successfully installed appdirs-1.4.4 docker-pycreds-0.4.0 pathtools-0.1.2 sentry-sdk-1.26.0 setproctitle-1.3.2 wandb-0.15.4\n"
     ]
    }
   ],
   "source": [
    "#!pip install wandb"
   ]
  },
  {
   "cell_type": "code",
   "execution_count": 8,
   "id": "99f6c2fb-2657-464a-b2b5-402d7581f4d6",
   "metadata": {},
   "outputs": [
    {
     "ename": "SyntaxError",
     "evalue": "invalid syntax (3398781608.py, line 8)",
     "output_type": "error",
     "traceback": [
      "\u001b[0;36m  Cell \u001b[0;32mIn[13], line 8\u001b[0;36m\u001b[0m\n\u001b[0;31m    pip install wandb\u001b[0m\n\u001b[0m        ^\u001b[0m\n\u001b[0;31mSyntaxError\u001b[0m\u001b[0;31m:\u001b[0m invalid syntax\n"
     ]
    }
   ],
   "source": [
    "import tensorflow as tf\n",
    "import matplotlib.pyplot as plt\n",
    "import numpy as np\n",
    "import pandas as pd\n",
    "from sklearn.model_selection import train_test_split\n",
    "from sklearn.preprocessing import LabelBinarizer\n",
    "from collections import Counter"
   ]
  },
  {
   "cell_type": "code",
   "execution_count": 15,
   "id": "8c6e2ff5-48c6-4ee5-b872-69afeadcf508",
   "metadata": {},
   "outputs": [
    {
     "name": "stderr",
     "output_type": "stream",
     "text": [
      "Failed to detect the name of this notebook, you can set it manually with the WANDB_NOTEBOOK_NAME environment variable to enable code saving.\n",
      "\u001b[34m\u001b[1mwandb\u001b[0m: Logging into wandb.ai. (Learn how to deploy a W&B server locally: https://wandb.me/wandb-server)\n",
      "\u001b[34m\u001b[1mwandb\u001b[0m: You can find your API key in your browser here: https://wandb.ai/authorize\n",
      "\u001b[34m\u001b[1mwandb\u001b[0m: Paste an API key from your profile and hit enter, or press ctrl+c to quit:"
     ]
    },
    {
     "name": "stdin",
     "output_type": "stream",
     "text": [
      "  ········································\n"
     ]
    },
    {
     "name": "stderr",
     "output_type": "stream",
     "text": [
      "\u001b[34m\u001b[1mwandb\u001b[0m: Appending key for api.wandb.ai to your netrc file: /home/azureuser/.netrc\n"
     ]
    },
    {
     "data": {
      "text/plain": [
       "True"
      ]
     },
     "execution_count": 15,
     "metadata": {},
     "output_type": "execute_result"
    }
   ],
   "source": [
    "import warnings\n",
    "warnings.filterwarnings('ignore')\n",
    "\n",
    "import os\n",
    "os.environ['TF_CPP_MIN_LOG_LEVEL'] = '2'\n",
    "\n",
    "import wandb\n",
    "from wandb.keras import WandbCallback\n",
    "\n",
    "wandb.login()"
   ]
  },
  {
   "cell_type": "code",
   "execution_count": 20,
   "id": "b55b5f7a-a073-4ed5-9077-ff1ffaf4684a",
   "metadata": {},
   "outputs": [],
   "source": [
    "import random\n",
    "from wandb.keras import WandbMetricsLogger, WandbModelCheckpoint\n",
    "from tensorflow.keras.callbacks import ModelCheckpoint"
   ]
  },
  {
   "cell_type": "code",
   "execution_count": 2,
   "id": "a41efb21-1017-4c8f-8b68-3b8b9ad1dd80",
   "metadata": {},
   "outputs": [],
   "source": [
    "from azure.storage.blob import BlobServiceClient, BlobClient, ContainerClient\n",
    "connection_string = \"DefaultEndpointsProtocol=https;AccountName=lucianagerman4638471639;AccountKey=s3ctA9+X+SqyzvUbgzESug9elvK5YbHEKD7Px4RuFu5SG/34BuO5zl+AkbffpYG1q8J+LSbjnpqp+AStfiXepA==;EndpointSuffix=core.windows.net\"\n",
    "container_name = \"azureml-blobstore-712d0730-8ebc-42ee-99e3-a783cdcdbbff\"\n",
    "\n",
    "blob_service_client = BlobServiceClient.from_connection_string(connection_string)\n",
    "container_client = blob_service_client.get_container_client(container_name)"
   ]
  },
  {
   "cell_type": "code",
   "execution_count": 3,
   "id": "6aa619cd-60ca-4a08-a091-18b7ae44b911",
   "metadata": {},
   "outputs": [
    {
     "name": "stderr",
     "output_type": "stream",
     "text": [
      "2023-07-01 00:34:00.523337: I tensorflow/stream_executor/platform/default/dso_loader.cc:44] Successfully opened dynamic library libcuda.so.1\n",
      "2023-07-01 00:34:02.756093: I tensorflow/core/common_runtime/gpu/gpu_device.cc:1561] Found device 0 with properties: \n",
      "pciBusID: 0001:00:00.0 name: Tesla K80 computeCapability: 3.7\n",
      "coreClock: 0.8235GHz coreCount: 13 deviceMemorySize: 11.17GiB deviceMemoryBandwidth: 223.96GiB/s\n",
      "2023-07-01 00:34:03.124005: I tensorflow/stream_executor/platform/default/dso_loader.cc:44] Successfully opened dynamic library libcudart.so.10.1\n",
      "2023-07-01 00:34:06.456207: I tensorflow/stream_executor/platform/default/dso_loader.cc:44] Successfully opened dynamic library libcublas.so.10\n",
      "2023-07-01 00:34:08.272922: I tensorflow/stream_executor/platform/default/dso_loader.cc:44] Successfully opened dynamic library libcufft.so.10\n",
      "2023-07-01 00:34:09.223582: I tensorflow/stream_executor/platform/default/dso_loader.cc:44] Successfully opened dynamic library libcurand.so.10\n",
      "2023-07-01 00:34:11.699236: I tensorflow/stream_executor/platform/default/dso_loader.cc:44] Successfully opened dynamic library libcusolver.so.10\n",
      "2023-07-01 00:34:12.209303: I tensorflow/stream_executor/platform/default/dso_loader.cc:44] Successfully opened dynamic library libcusparse.so.10\n",
      "2023-07-01 00:34:12.209682: W tensorflow/stream_executor/platform/default/dso_loader.cc:55] Could not load dynamic library 'libcudnn.so.7'; dlerror: libcudnn.so.7: cannot open shared object file: No such file or directory\n",
      "2023-07-01 00:34:12.209697: W tensorflow/core/common_runtime/gpu/gpu_device.cc:1598] Cannot dlopen some GPU libraries. Please make sure the missing libraries mentioned above are installed properly if you would like to use GPU. Follow the guide at https://www.tensorflow.org/install/gpu for how to download and setup the required libraries for your platform.\n",
      "Skipping registering GPU devices...\n",
      "2023-07-01 00:34:12.270443: I tensorflow/core/platform/cpu_feature_guard.cc:143] Your CPU supports instructions that this TensorFlow binary was not compiled to use: AVX2 FMA\n",
      "2023-07-01 00:34:12.478941: I tensorflow/core/platform/profile_utils/cpu_utils.cc:102] CPU Frequency: 2596985000 Hz\n",
      "2023-07-01 00:34:12.479382: I tensorflow/compiler/xla/service/service.cc:168] XLA service 0x7fe274000b60 initialized for platform Host (this does not guarantee that XLA will be used). Devices:\n",
      "2023-07-01 00:34:12.479406: I tensorflow/compiler/xla/service/service.cc:176]   StreamExecutor device (0): Host, Default Version\n",
      "2023-07-01 00:34:12.481478: I tensorflow/core/common_runtime/gpu/gpu_device.cc:1102] Device interconnect StreamExecutor with strength 1 edge matrix:\n",
      "2023-07-01 00:34:12.481494: I tensorflow/core/common_runtime/gpu/gpu_device.cc:1108]      \n",
      "/tmp/ipykernel_5977/2457328765.py:20: VisibleDeprecationWarning: Creating an ndarray from ragged nested sequences (which is a list-or-tuple of lists-or-tuples-or ndarrays with different lengths or shapes) is deprecated. If you meant to do this, you must specify 'dtype=object' when creating the ndarray.\n",
      "  images = np.array(images)\n"
     ]
    }
   ],
   "source": [
    "blob_list = container_client.list_blobs() \n",
    "\n",
    "def load_image(blob):\n",
    "\n",
    "    blob_client = blob_service_client.get_blob_client(container_name, blob.name)\n",
    "    blob_data = blob_client.download_blob().readall()\n",
    "    image = tf.image.decode_image(blob_data)\n",
    "    image = tf.image.resize(image, (32, 32)) \n",
    "    image = tf.cast(image, dtype=tf.float32)\n",
    "    image = image / 255.0\n",
    "    label = blob.name.split(\"_\")[1].split(\".\")[0]\n",
    "    return image, label\n",
    "\n",
    "images = []\n",
    "\n",
    "for blob in [blob for blob in blob_list if blob.name.startswith('images')]:\n",
    "        image, label = load_image(blob)\n",
    "        images.append((image, label))\n",
    "    \n",
    "images = np.array(images)\n"
   ]
  },
  {
   "cell_type": "code",
   "execution_count": 4,
   "id": "716a2c25-19da-4863-a70f-3eea9fa9e0bc",
   "metadata": {},
   "outputs": [
    {
     "data": {
      "image/png": "[encoded data removed]",
      "text/plain": [
       "<Figure size 1200x800 with 9 Axes>"
      ]
     },
     "metadata": {},
     "output_type": "display_data"
    }
   ],
   "source": [
    "# Función para visualizar imágenes de muestra y sus etiquetas\n",
    "def plot_sample_images(x, y):\n",
    "    plt.figure(figsize=(12, 8))\n",
    "    for i in range(9):\n",
    "        plt.subplot(3, 3, i + 1)\n",
    "        plt.imshow(np.clip(x[i], 0, 1))\n",
    "        plt.title(y[i])\n",
    "        plt.axis('off')\n",
    "    plt.tight_layout()\n",
    "    plt.show()\n",
    "\n",
    "# Visualizar imágenes de muestra y sus etiquetas\n",
    "plot_sample_images([tupla[0] for tupla in images], [tupla[1] for tupla in images])"
   ]
  },
  {
   "cell_type": "code",
   "execution_count": 10,
   "id": "1111210a-ba58-46ba-99ee-84e4095f2433",
   "metadata": {},
   "outputs": [],
   "source": [
    "# Dividir el objeto Dataset en conjuntos de entrenamiento y prueba\n",
    "images_train, images_test = train_test_split(images, test_size=0.2, random_state=42)\n",
    "\n",
    "x_train=np.array([image[0] for image in images_train])\n",
    "y_train=np.array([label[1] for label in images_train])\n",
    "\n",
    "x_test=np.array([image[0] for image in images_test])\n",
    "y_test=np.array([label[1] for label in images_test])\n",
    "\n",
    "binarizer = LabelBinarizer()\n",
    "y_train = binarizer.fit_transform(y_train)\n",
    "y_test = binarizer.fit_transform(y_test)\n",
    "\n",
    "# Convertir las etiquetas en one-hot\n",
    "y_train = tf.keras.utils.to_categorical(y_train, 2)\n",
    "y_test = tf.keras.utils.to_categorical(y_test, 2)\n"
   ]
  },
  {
   "cell_type": "code",
   "execution_count": 22,
   "id": "9deb76ce-fb48-49b7-a549-6612c45ffc11",
   "metadata": {},
   "outputs": [
    {
     "data": {
      "text/plain": [
       "Counter({'HOUSE': 76})"
      ]
     },
     "execution_count": 22,
     "metadata": {},
     "output_type": "execute_result"
    }
   ],
   "source": [
    "Counter([label[1] for label in images_train])"
   ]
  },
  {
   "cell_type": "code",
   "execution_count": null,
   "id": "9a8aac4a-bac0-4761-b542-01da9ffa30bf",
   "metadata": {},
   "outputs": [
    {
     "data": {
      "text/html": [
       "Finishing last run (ID:jd499kpu) before initializing another..."
      ],
      "text/plain": [
       "<IPython.core.display.HTML object>"
      ]
     },
     "metadata": {},
     "output_type": "display_data"
    },
    {
     "data": {
      "text/html": [
       "Waiting for W&B process to finish... <strong style=\"color:green\">(success).</strong>"
      ],
      "text/plain": [
       "<IPython.core.display.HTML object>"
      ]
     },
     "metadata": {},
     "output_type": "display_data"
    },
    {
     "data": {
      "text/html": [
       " View run <strong style=\"color:#cdcd00\">trim-dew-5</strong> at: <a href='https://wandb.ai/lu-ger/ml-in-prod/runs/jd499kpu' target=\"_blank\">https://wandb.ai/lu-ger/ml-in-prod/runs/jd499kpu</a><br/>Synced 6 W&B file(s), 0 media file(s), 0 artifact file(s) and 0 other file(s)"
      ],
      "text/plain": [
       "<IPython.core.display.HTML object>"
      ]
     },
     "metadata": {},
     "output_type": "display_data"
    },
    {
     "data": {
      "text/html": [
       "Find logs at: <code>./wandb/run-20230701_021032-jd499kpu/logs</code>"
      ],
      "text/plain": [
       "<IPython.core.display.HTML object>"
      ]
     },
     "metadata": {},
     "output_type": "display_data"
    },
    {
     "data": {
      "text/html": [
       "Successfully finished last run (ID:jd499kpu). Initializing new run:<br/>"
      ],
      "text/plain": [
       "<IPython.core.display.HTML object>"
      ]
     },
     "metadata": {},
     "output_type": "display_data"
    },
    {
     "data": {
      "text/html": [
       "Tracking run with wandb version 0.15.4"
      ],
      "text/plain": [
       "<IPython.core.display.HTML object>"
      ]
     },
     "metadata": {},
     "output_type": "display_data"
    },
    {
     "data": {
      "text/html": [
       "Run data is saved locally in <code>/mnt/batch/tasks/shared/LS_root/mounts/clusters/gm2397331/code/wandb/run-20230701_021216-qu585ll0</code>"
      ],
      "text/plain": [
       "<IPython.core.display.HTML object>"
      ]
     },
     "metadata": {},
     "output_type": "display_data"
    },
    {
     "data": {
      "text/html": [
       "Syncing run <strong><a href='https://wandb.ai/lu-ger/ml-in-prod/runs/qu585ll0' target=\"_blank\">blooming-river-6</a></strong> to <a href='https://wandb.ai/lu-ger/ml-in-prod' target=\"_blank\">Weights & Biases</a> (<a href='https://wandb.me/run' target=\"_blank\">docs</a>)<br/>"
      ],
      "text/plain": [
       "<IPython.core.display.HTML object>"
      ]
     },
     "metadata": {},
     "output_type": "display_data"
    },
    {
     "data": {
      "text/html": [
       " View project at <a href='https://wandb.ai/lu-ger/ml-in-prod' target=\"_blank\">https://wandb.ai/lu-ger/ml-in-prod</a>"
      ],
      "text/plain": [
       "<IPython.core.display.HTML object>"
      ]
     },
     "metadata": {},
     "output_type": "display_data"
    },
    {
     "data": {
      "text/html": [
       " View run at <a href='https://wandb.ai/lu-ger/ml-in-prod/runs/qu585ll0' target=\"_blank\">https://wandb.ai/lu-ger/ml-in-prod/runs/qu585ll0</a>"
      ],
      "text/plain": [
       "<IPython.core.display.HTML object>"
      ]
     },
     "metadata": {},
     "output_type": "display_data"
    },
    {
     "name": "stdout",
     "output_type": "stream",
     "text": [
      "Epoch 1/100\n",
      "1/1 [==============================] - ETA: 0s - loss: 0.9719 - accuracy: 0.4342"
     ]
    },
    {
     "name": "stderr",
     "output_type": "stream",
     "text": [
      "2023-07-01 02:12:28.089265: W tensorflow/python/util/util.cc:329] Sets are not currently considered sequences, but this may change in the future, so consider avoiding using them.\n"
     ]
    },
    {
     "name": "stdout",
     "output_type": "stream",
     "text": [
      "WARNING:tensorflow:From /anaconda/envs/azureml_py38/lib/python3.8/site-packages/tensorflow/python/ops/resource_variable_ops.py:1813: calling BaseResourceVariable.__init__ (from tensorflow.python.ops.resource_variable_ops) with constraint is deprecated and will be removed in a future version.\n",
      "Instructions for updating:\n",
      "If using Keras pass *_constraint arguments to layers.\n",
      "INFO:tensorflow:Assets written to: my_model_01/assets\n",
      "1/1 [==============================] - 4s 4s/step - loss: 0.9719 - accuracy: 0.4342 - val_loss: 0.7197 - val_accuracy: 0.0000e+00\n",
      "Epoch 2/100\n",
      "1/1 [==============================] - ETA: 0s - loss: 0.9565 - accuracy: 0.5000INFO:tensorflow:Assets written to: my_model_02/assets\n",
      "1/1 [==============================] - 3s 3s/step - loss: 0.9565 - accuracy: 0.5000 - val_loss: 0.7084 - val_accuracy: 0.1000\n",
      "Epoch 3/100\n",
      "1/1 [==============================] - ETA: 0s - loss: 1.0176 - accuracy: 0.5263INFO:tensorflow:Assets written to: my_model_03/assets\n",
      "1/1 [==============================] - 4s 4s/step - loss: 1.0176 - accuracy: 0.5263 - val_loss: 0.6918 - val_accuracy: 0.4500\n",
      "Epoch 4/100\n",
      "1/1 [==============================] - ETA: 0s - loss: 0.9571 - accuracy: 0.5263INFO:tensorflow:Assets written to: my_model_04/assets\n",
      "1/1 [==============================] - 4s 4s/step - loss: 0.9571 - accuracy: 0.5263 - val_loss: 0.6813 - val_accuracy: 0.9500\n",
      "Epoch 5/100\n",
      "1/1 [==============================] - ETA: 0s - loss: 0.9920 - accuracy: 0.4868INFO:tensorflow:Assets written to: my_model_05/assets\n",
      "1/1 [==============================] - 3s 3s/step - loss: 0.9920 - accuracy: 0.4868 - val_loss: 0.6731 - val_accuracy: 1.0000\n",
      "Epoch 6/100\n",
      "1/1 [==============================] - ETA: 0s - loss: 0.9895 - accuracy: 0.5263INFO:tensorflow:Assets written to: my_model_06/assets\n",
      "1/1 [==============================] - 4s 4s/step - loss: 0.9895 - accuracy: 0.5263 - val_loss: 0.6673 - val_accuracy: 1.0000\n",
      "Epoch 7/100\n",
      "1/1 [==============================] - ETA: 0s - loss: 1.0075 - accuracy: 0.5000INFO:tensorflow:Assets written to: my_model_07/assets\n",
      "1/1 [==============================] - 4s 4s/step - loss: 1.0075 - accuracy: 0.5000 - val_loss: 0.6590 - val_accuracy: 1.0000\n",
      "Epoch 8/100\n",
      "1/1 [==============================] - ETA: 0s - loss: 0.9462 - accuracy: 0.5921INFO:tensorflow:Assets written to: my_model_08/assets\n",
      "1/1 [==============================] - 4s 4s/step - loss: 0.9462 - accuracy: 0.5921 - val_loss: 0.6494 - val_accuracy: 1.0000\n",
      "Epoch 9/100\n",
      "1/1 [==============================] - ETA: 0s - loss: 0.8512 - accuracy: 0.6053INFO:tensorflow:Assets written to: my_model_09/assets\n",
      "1/1 [==============================] - 4s 4s/step - loss: 0.8512 - accuracy: 0.6053 - val_loss: 0.6407 - val_accuracy: 1.0000\n",
      "Epoch 10/100\n",
      "1/1 [==============================] - ETA: 0s - loss: 0.9955 - accuracy: 0.5395INFO:tensorflow:Assets written to: my_model_10/assets\n",
      "1/1 [==============================] - 3s 3s/step - loss: 0.9955 - accuracy: 0.5395 - val_loss: 0.6299 - val_accuracy: 1.0000\n",
      "Epoch 11/100\n",
      "1/1 [==============================] - ETA: 0s - loss: 0.8466 - accuracy: 0.5789INFO:tensorflow:Assets written to: my_model_11/assets\n",
      "1/1 [==============================] - 4s 4s/step - loss: 0.8466 - accuracy: 0.5789 - val_loss: 0.6223 - val_accuracy: 1.0000\n",
      "Epoch 12/100\n",
      "1/1 [==============================] - ETA: 0s - loss: 0.9306 - accuracy: 0.5132INFO:tensorflow:Assets written to: my_model_12/assets\n",
      "1/1 [==============================] - 3s 3s/step - loss: 0.9306 - accuracy: 0.5132 - val_loss: 0.6148 - val_accuracy: 1.0000\n",
      "Epoch 13/100\n",
      "1/1 [==============================] - ETA: 0s - loss: 0.8622 - accuracy: 0.5921INFO:tensorflow:Assets written to: my_model_13/assets\n",
      "1/1 [==============================] - 3s 3s/step - loss: 0.8622 - accuracy: 0.5921 - val_loss: 0.6066 - val_accuracy: 1.0000\n",
      "Epoch 14/100\n",
      "1/1 [==============================] - ETA: 0s - loss: 0.8750 - accuracy: 0.5658INFO:tensorflow:Assets written to: my_model_14/assets\n",
      "1/1 [==============================] - 4s 4s/step - loss: 0.8750 - accuracy: 0.5658 - val_loss: 0.5976 - val_accuracy: 1.0000\n",
      "Epoch 15/100\n",
      "1/1 [==============================] - ETA: 0s - loss: 0.7964 - accuracy: 0.6974INFO:tensorflow:Assets written to: my_model_15/assets\n",
      "1/1 [==============================] - 3s 3s/step - loss: 0.7964 - accuracy: 0.6974 - val_loss: 0.5901 - val_accuracy: 1.0000\n",
      "Epoch 16/100\n",
      "1/1 [==============================] - ETA: 0s - loss: 0.8321 - accuracy: 0.6184INFO:tensorflow:Assets written to: my_model_16/assets\n",
      "1/1 [==============================] - 4s 4s/step - loss: 0.8321 - accuracy: 0.6184 - val_loss: 0.5817 - val_accuracy: 1.0000\n",
      "Epoch 17/100\n",
      "1/1 [==============================] - ETA: 0s - loss: 0.7469 - accuracy: 0.6184INFO:tensorflow:Assets written to: my_model_17/assets\n",
      "1/1 [==============================] - 4s 4s/step - loss: 0.7469 - accuracy: 0.6184 - val_loss: 0.5726 - val_accuracy: 1.0000\n",
      "Epoch 18/100\n",
      "1/1 [==============================] - ETA: 0s - loss: 0.9476 - accuracy: 0.4474INFO:tensorflow:Assets written to: my_model_18/assets\n",
      "1/1 [==============================] - 3s 3s/step - loss: 0.9476 - accuracy: 0.4474 - val_loss: 0.5660 - val_accuracy: 1.0000\n",
      "Epoch 19/100\n",
      "1/1 [==============================] - ETA: 0s - loss: 0.9623 - accuracy: 0.5658INFO:tensorflow:Assets written to: my_model_19/assets\n",
      "1/1 [==============================] - 3s 3s/step - loss: 0.9623 - accuracy: 0.5658 - val_loss: 0.5598 - val_accuracy: 1.0000\n",
      "Epoch 20/100\n",
      "1/1 [==============================] - ETA: 0s - loss: 0.8059 - accuracy: 0.5658INFO:tensorflow:Assets written to: my_model_20/assets\n",
      "1/1 [==============================] - 4s 4s/step - loss: 0.8059 - accuracy: 0.5658 - val_loss: 0.5575 - val_accuracy: 1.0000\n",
      "Epoch 21/100\n",
      "1/1 [==============================] - ETA: 0s - loss: 0.8269 - accuracy: 0.5789INFO:tensorflow:Assets written to: my_model_21/assets\n",
      "1/1 [==============================] - 4s 4s/step - loss: 0.8269 - accuracy: 0.5789 - val_loss: 0.5556 - val_accuracy: 1.0000\n",
      "Epoch 22/100\n",
      "1/1 [==============================] - ETA: 0s - loss: 0.7752 - accuracy: 0.6053INFO:tensorflow:Assets written to: my_model_22/assets\n",
      "1/1 [==============================] - 3s 3s/step - loss: 0.7752 - accuracy: 0.6053 - val_loss: 0.5518 - val_accuracy: 1.0000\n",
      "Epoch 23/100\n",
      "1/1 [==============================] - ETA: 0s - loss: 0.8062 - accuracy: 0.6579INFO:tensorflow:Assets written to: my_model_23/assets\n",
      "1/1 [==============================] - 4s 4s/step - loss: 0.8062 - accuracy: 0.6579 - val_loss: 0.5489 - val_accuracy: 1.0000\n",
      "Epoch 24/100\n",
      "1/1 [==============================] - ETA: 0s - loss: 0.7986 - accuracy: 0.7105INFO:tensorflow:Assets written to: my_model_24/assets\n",
      "1/1 [==============================] - 4s 4s/step - loss: 0.7986 - accuracy: 0.7105 - val_loss: 0.5479 - val_accuracy: 1.0000\n",
      "Epoch 25/100\n",
      "1/1 [==============================] - ETA: 0s - loss: 0.7786 - accuracy: 0.5263INFO:tensorflow:Assets written to: my_model_25/assets\n",
      "1/1 [==============================] - 4s 4s/step - loss: 0.7786 - accuracy: 0.5263 - val_loss: 0.5445 - val_accuracy: 1.0000\n",
      "Epoch 26/100\n",
      "1/1 [==============================] - ETA: 0s - loss: 0.7789 - accuracy: 0.6711INFO:tensorflow:Assets written to: my_model_26/assets\n",
      "1/1 [==============================] - 4s 4s/step - loss: 0.7789 - accuracy: 0.6711 - val_loss: 0.5450 - val_accuracy: 1.0000\n",
      "Epoch 27/100\n",
      "1/1 [==============================] - ETA: 0s - loss: 0.7891 - accuracy: 0.6184INFO:tensorflow:Assets written to: my_model_27/assets\n",
      "1/1 [==============================] - 4s 4s/step - loss: 0.7891 - accuracy: 0.6184 - val_loss: 0.5476 - val_accuracy: 1.0000\n",
      "Epoch 28/100\n",
      "1/1 [==============================] - ETA: 0s - loss: 0.8261 - accuracy: 0.6053INFO:tensorflow:Assets written to: my_model_28/assets\n",
      "1/1 [==============================] - 4s 4s/step - loss: 0.8261 - accuracy: 0.6053 - val_loss: 0.5500 - val_accuracy: 1.0000\n",
      "Epoch 29/100\n",
      "1/1 [==============================] - ETA: 0s - loss: 0.7705 - accuracy: 0.6447INFO:tensorflow:Assets written to: my_model_29/assets\n",
      "1/1 [==============================] - 4s 4s/step - loss: 0.7705 - accuracy: 0.6447 - val_loss: 0.5548 - val_accuracy: 1.0000\n",
      "Epoch 30/100\n",
      "1/1 [==============================] - ETA: 0s - loss: 0.8224 - accuracy: 0.6053INFO:tensorflow:Assets written to: my_model_30/assets\n",
      "1/1 [==============================] - 3s 3s/step - loss: 0.8224 - accuracy: 0.6053 - val_loss: 0.5557 - val_accuracy: 1.0000\n",
      "Epoch 31/100\n",
      "1/1 [==============================] - ETA: 0s - loss: 0.8064 - accuracy: 0.5921INFO:tensorflow:Assets written to: my_model_31/assets\n",
      "1/1 [==============================] - 4s 4s/step - loss: 0.8064 - accuracy: 0.5921 - val_loss: 0.5568 - val_accuracy: 1.0000\n",
      "Epoch 32/100\n",
      "1/1 [==============================] - ETA: 0s - loss: 0.7881 - accuracy: 0.6184INFO:tensorflow:Assets written to: my_model_32/assets\n",
      "1/1 [==============================] - 3s 3s/step - loss: 0.7881 - accuracy: 0.6184 - val_loss: 0.5582 - val_accuracy: 1.0000\n",
      "Epoch 33/100\n",
      "1/1 [==============================] - ETA: 0s - loss: 0.7721 - accuracy: 0.5658INFO:tensorflow:Assets written to: my_model_33/assets\n",
      "1/1 [==============================] - 4s 4s/step - loss: 0.7721 - accuracy: 0.5658 - val_loss: 0.5614 - val_accuracy: 1.0000\n",
      "Epoch 34/100\n",
      "1/1 [==============================] - ETA: 0s - loss: 0.6903 - accuracy: 0.6974INFO:tensorflow:Assets written to: my_model_34/assets\n",
      "1/1 [==============================] - 3s 3s/step - loss: 0.6903 - accuracy: 0.6974 - val_loss: 0.5644 - val_accuracy: 1.0000\n",
      "Epoch 35/100\n",
      "1/1 [==============================] - ETA: 0s - loss: 0.8058 - accuracy: 0.5263INFO:tensorflow:Assets written to: my_model_35/assets\n",
      "1/1 [==============================] - 4s 4s/step - loss: 0.8058 - accuracy: 0.5263 - val_loss: 0.5663 - val_accuracy: 1.0000\n",
      "Epoch 36/100\n",
      "1/1 [==============================] - ETA: 0s - loss: 0.7875 - accuracy: 0.5921INFO:tensorflow:Assets written to: my_model_36/assets\n",
      "1/1 [==============================] - 3s 3s/step - loss: 0.7875 - accuracy: 0.5921 - val_loss: 0.5696 - val_accuracy: 1.0000\n",
      "Epoch 37/100\n",
      "1/1 [==============================] - ETA: 0s - loss: 0.7300 - accuracy: 0.6447INFO:tensorflow:Assets written to: my_model_37/assets\n",
      "1/1 [==============================] - 4s 4s/step - loss: 0.7300 - accuracy: 0.6447 - val_loss: 0.5676 - val_accuracy: 1.0000\n",
      "Epoch 38/100\n",
      "1/1 [==============================] - ETA: 0s - loss: 0.7526 - accuracy: 0.7105INFO:tensorflow:Assets written to: my_model_38/assets\n",
      "1/1 [==============================] - 3s 3s/step - loss: 0.7526 - accuracy: 0.7105 - val_loss: 0.5658 - val_accuracy: 1.0000\n",
      "Epoch 39/100\n",
      "1/1 [==============================] - ETA: 0s - loss: 0.7953 - accuracy: 0.5658INFO:tensorflow:Assets written to: my_model_39/assets\n",
      "1/1 [==============================] - 4s 4s/step - loss: 0.7953 - accuracy: 0.5658 - val_loss: 0.5635 - val_accuracy: 1.0000\n",
      "Epoch 40/100\n",
      "1/1 [==============================] - ETA: 0s - loss: 0.6586 - accuracy: 0.7105INFO:tensorflow:Assets written to: my_model_40/assets\n",
      "1/1 [==============================] - 4s 4s/step - loss: 0.6586 - accuracy: 0.7105 - val_loss: 0.5540 - val_accuracy: 1.0000\n",
      "Epoch 41/100\n",
      "1/1 [==============================] - ETA: 0s - loss: 0.7792 - accuracy: 0.6184INFO:tensorflow:Assets written to: my_model_41/assets\n",
      "1/1 [==============================] - 4s 4s/step - loss: 0.7792 - accuracy: 0.6184 - val_loss: 0.5449 - val_accuracy: 1.0000\n",
      "Epoch 42/100\n",
      "1/1 [==============================] - ETA: 0s - loss: 0.6930 - accuracy: 0.6711INFO:tensorflow:Assets written to: my_model_42/assets\n",
      "1/1 [==============================] - 4s 4s/step - loss: 0.6930 - accuracy: 0.6711 - val_loss: 0.5232 - val_accuracy: 1.0000\n",
      "Epoch 43/100\n",
      "1/1 [==============================] - ETA: 0s - loss: 0.7412 - accuracy: 0.6842INFO:tensorflow:Assets written to: my_model_43/assets\n",
      "1/1 [==============================] - 3s 3s/step - loss: 0.7412 - accuracy: 0.6842 - val_loss: 0.5076 - val_accuracy: 1.0000\n",
      "Epoch 44/100\n",
      "1/1 [==============================] - ETA: 0s - loss: 0.7391 - accuracy: 0.6974INFO:tensorflow:Assets written to: my_model_44/assets\n",
      "1/1 [==============================] - 4s 4s/step - loss: 0.7391 - accuracy: 0.6974 - val_loss: 0.4944 - val_accuracy: 1.0000\n",
      "Epoch 45/100\n",
      "1/1 [==============================] - ETA: 0s - loss: 0.7666 - accuracy: 0.6974INFO:tensorflow:Assets written to: my_model_45/assets\n",
      "1/1 [==============================] - 4s 4s/step - loss: 0.7666 - accuracy: 0.6974 - val_loss: 0.4826 - val_accuracy: 1.0000\n",
      "Epoch 46/100\n",
      "1/1 [==============================] - ETA: 0s - loss: 0.7258 - accuracy: 0.5921INFO:tensorflow:Assets written to: my_model_46/assets\n",
      "1/1 [==============================] - 4s 4s/step - loss: 0.7258 - accuracy: 0.5921 - val_loss: 0.4721 - val_accuracy: 1.0000\n",
      "Epoch 47/100\n",
      "1/1 [==============================] - ETA: 0s - loss: 0.7268 - accuracy: 0.6711INFO:tensorflow:Assets written to: my_model_47/assets\n",
      "1/1 [==============================] - 4s 4s/step - loss: 0.7268 - accuracy: 0.6711 - val_loss: 0.4636 - val_accuracy: 1.0000\n",
      "Epoch 48/100\n",
      "1/1 [==============================] - ETA: 0s - loss: 0.7382 - accuracy: 0.6184INFO:tensorflow:Assets written to: my_model_48/assets\n",
      "1/1 [==============================] - 4s 4s/step - loss: 0.7382 - accuracy: 0.6184 - val_loss: 0.4572 - val_accuracy: 1.0000\n",
      "Epoch 49/100\n",
      "1/1 [==============================] - ETA: 0s - loss: 0.6843 - accuracy: 0.7105INFO:tensorflow:Assets written to: my_model_49/assets\n",
      "1/1 [==============================] - 3s 3s/step - loss: 0.6843 - accuracy: 0.7105 - val_loss: 0.4521 - val_accuracy: 1.0000\n",
      "Epoch 50/100\n",
      "1/1 [==============================] - ETA: 0s - loss: 0.7294 - accuracy: 0.6711INFO:tensorflow:Assets written to: my_model_50/assets\n",
      "1/1 [==============================] - 4s 4s/step - loss: 0.7294 - accuracy: 0.6711 - val_loss: 0.4474 - val_accuracy: 1.0000\n",
      "Epoch 51/100\n",
      "1/1 [==============================] - ETA: 0s - loss: 0.7488 - accuracy: 0.6316INFO:tensorflow:Assets written to: my_model_51/assets\n",
      "1/1 [==============================] - 4s 4s/step - loss: 0.7488 - accuracy: 0.6316 - val_loss: 0.4446 - val_accuracy: 1.0000\n",
      "Epoch 52/100\n",
      "1/1 [==============================] - ETA: 0s - loss: 0.6554 - accuracy: 0.6974INFO:tensorflow:Assets written to: my_model_52/assets\n",
      "1/1 [==============================] - 3s 3s/step - loss: 0.6554 - accuracy: 0.6974 - val_loss: 0.4432 - val_accuracy: 1.0000\n",
      "Epoch 53/100\n",
      "1/1 [==============================] - ETA: 0s - loss: 0.7207 - accuracy: 0.6447INFO:tensorflow:Assets written to: my_model_53/assets\n",
      "1/1 [==============================] - 4s 4s/step - loss: 0.7207 - accuracy: 0.6447 - val_loss: 0.4441 - val_accuracy: 1.0000\n",
      "Epoch 54/100\n",
      "1/1 [==============================] - ETA: 0s - loss: 0.6448 - accuracy: 0.7500INFO:tensorflow:Assets written to: my_model_54/assets\n",
      "1/1 [==============================] - 4s 4s/step - loss: 0.6448 - accuracy: 0.7500 - val_loss: 0.4498 - val_accuracy: 1.0000\n",
      "Epoch 55/100\n",
      "1/1 [==============================] - ETA: 0s - loss: 0.6774 - accuracy: 0.6842INFO:tensorflow:Assets written to: my_model_55/assets\n",
      "1/1 [==============================] - 4s 4s/step - loss: 0.6774 - accuracy: 0.6842 - val_loss: 0.4573 - val_accuracy: 1.0000\n",
      "Epoch 56/100\n",
      "1/1 [==============================] - ETA: 0s - loss: 0.6582 - accuracy: 0.7237INFO:tensorflow:Assets written to: my_model_56/assets\n",
      "1/1 [==============================] - 3s 3s/step - loss: 0.6582 - accuracy: 0.7237 - val_loss: 0.4653 - val_accuracy: 1.0000\n",
      "Epoch 57/100\n",
      "1/1 [==============================] - ETA: 0s - loss: 0.6683 - accuracy: 0.6974INFO:tensorflow:Assets written to: my_model_57/assets\n",
      "1/1 [==============================] - 5s 5s/step - loss: 0.6683 - accuracy: 0.6974 - val_loss: 0.4712 - val_accuracy: 1.0000\n",
      "Epoch 58/100\n",
      "1/1 [==============================] - ETA: 0s - loss: 0.6392 - accuracy: 0.7368INFO:tensorflow:Assets written to: my_model_58/assets\n",
      "1/1 [==============================] - 4s 4s/step - loss: 0.6392 - accuracy: 0.7368 - val_loss: 0.4753 - val_accuracy: 1.0000\n",
      "Epoch 59/100\n",
      "1/1 [==============================] - ETA: 0s - loss: 0.6795 - accuracy: 0.6974INFO:tensorflow:Assets written to: my_model_59/assets\n",
      "1/1 [==============================] - 4s 4s/step - loss: 0.6795 - accuracy: 0.6974 - val_loss: 0.4779 - val_accuracy: 1.0000\n",
      "Epoch 60/100\n",
      "1/1 [==============================] - ETA: 0s - loss: 0.6185 - accuracy: 0.7763INFO:tensorflow:Assets written to: my_model_60/assets\n",
      "1/1 [==============================] - 4s 4s/step - loss: 0.6185 - accuracy: 0.7763 - val_loss: 0.4787 - val_accuracy: 1.0000\n",
      "Epoch 61/100\n",
      "1/1 [==============================] - ETA: 0s - loss: 0.6254 - accuracy: 0.7500INFO:tensorflow:Assets written to: my_model_61/assets\n",
      "1/1 [==============================] - 4s 4s/step - loss: 0.6254 - accuracy: 0.7500 - val_loss: 0.4775 - val_accuracy: 1.0000\n",
      "Epoch 62/100\n",
      "1/1 [==============================] - ETA: 0s - loss: 0.6711 - accuracy: 0.7105INFO:tensorflow:Assets written to: my_model_62/assets\n",
      "1/1 [==============================] - 3s 3s/step - loss: 0.6711 - accuracy: 0.7105 - val_loss: 0.4744 - val_accuracy: 1.0000\n",
      "Epoch 63/100\n",
      "1/1 [==============================] - ETA: 0s - loss: 0.5883 - accuracy: 0.7105INFO:tensorflow:Assets written to: my_model_63/assets\n",
      "1/1 [==============================] - 4s 4s/step - loss: 0.5883 - accuracy: 0.7105 - val_loss: 0.4684 - val_accuracy: 1.0000\n",
      "Epoch 64/100\n",
      "1/1 [==============================] - ETA: 0s - loss: 0.5680 - accuracy: 0.7632INFO:tensorflow:Assets written to: my_model_64/assets\n",
      "1/1 [==============================] - 4s 4s/step - loss: 0.5680 - accuracy: 0.7632 - val_loss: 0.4619 - val_accuracy: 1.0000\n",
      "Epoch 65/100\n",
      "1/1 [==============================] - ETA: 0s - loss: 0.6990 - accuracy: 0.6974INFO:tensorflow:Assets written to: my_model_65/assets\n",
      "1/1 [==============================] - 4s 4s/step - loss: 0.6990 - accuracy: 0.6974 - val_loss: 0.4558 - val_accuracy: 1.0000\n",
      "Epoch 66/100\n",
      "1/1 [==============================] - ETA: 0s - loss: 0.5875 - accuracy: 0.8158INFO:tensorflow:Assets written to: my_model_66/assets\n",
      "1/1 [==============================] - 3s 3s/step - loss: 0.5875 - accuracy: 0.8158 - val_loss: 0.4499 - val_accuracy: 1.0000\n",
      "Epoch 67/100\n",
      "1/1 [==============================] - ETA: 0s - loss: 0.6647 - accuracy: 0.7500INFO:tensorflow:Assets written to: my_model_67/assets\n",
      "1/1 [==============================] - 5s 5s/step - loss: 0.6647 - accuracy: 0.7500 - val_loss: 0.4421 - val_accuracy: 1.0000\n",
      "Epoch 68/100\n",
      "1/1 [==============================] - ETA: 0s - loss: 0.6089 - accuracy: 0.7895INFO:tensorflow:Assets written to: my_model_68/assets\n",
      "1/1 [==============================] - 3s 3s/step - loss: 0.6089 - accuracy: 0.7895 - val_loss: 0.4346 - val_accuracy: 1.0000\n",
      "Epoch 69/100\n",
      "1/1 [==============================] - ETA: 0s - loss: 0.6111 - accuracy: 0.7500INFO:tensorflow:Assets written to: my_model_69/assets\n",
      "1/1 [==============================] - 3s 3s/step - loss: 0.6111 - accuracy: 0.7500 - val_loss: 0.4286 - val_accuracy: 1.0000\n",
      "Epoch 70/100\n",
      "1/1 [==============================] - ETA: 0s - loss: 0.5943 - accuracy: 0.7632INFO:tensorflow:Assets written to: my_model_70/assets\n",
      "1/1 [==============================] - 4s 4s/step - loss: 0.5943 - accuracy: 0.7632 - val_loss: 0.4218 - val_accuracy: 1.0000\n",
      "Epoch 71/100\n",
      "1/1 [==============================] - ETA: 0s - loss: 0.6127 - accuracy: 0.7895INFO:tensorflow:Assets written to: my_model_71/assets\n",
      "1/1 [==============================] - 3s 3s/step - loss: 0.6127 - accuracy: 0.7895 - val_loss: 0.4156 - val_accuracy: 1.0000\n",
      "Epoch 72/100\n",
      "1/1 [==============================] - ETA: 0s - loss: 0.5756 - accuracy: 0.8289INFO:tensorflow:Assets written to: my_model_72/assets\n",
      "1/1 [==============================] - 4s 4s/step - loss: 0.5756 - accuracy: 0.8289 - val_loss: 0.4120 - val_accuracy: 1.0000\n",
      "Epoch 73/100\n",
      "1/1 [==============================] - ETA: 0s - loss: 0.6021 - accuracy: 0.8158INFO:tensorflow:Assets written to: my_model_73/assets\n",
      "1/1 [==============================] - 4s 4s/step - loss: 0.6021 - accuracy: 0.8158 - val_loss: 0.4093 - val_accuracy: 1.0000\n",
      "Epoch 74/100\n",
      "1/1 [==============================] - ETA: 0s - loss: 0.5771 - accuracy: 0.7763INFO:tensorflow:Assets written to: my_model_74/assets\n",
      "1/1 [==============================] - 3s 3s/step - loss: 0.5771 - accuracy: 0.7763 - val_loss: 0.4067 - val_accuracy: 1.0000\n",
      "Epoch 75/100\n",
      "1/1 [==============================] - ETA: 0s - loss: 0.6002 - accuracy: 0.7763INFO:tensorflow:Assets written to: my_model_75/assets\n",
      "1/1 [==============================] - 4s 4s/step - loss: 0.6002 - accuracy: 0.7763 - val_loss: 0.4051 - val_accuracy: 1.0000\n",
      "Epoch 76/100\n",
      "1/1 [==============================] - ETA: 0s - loss: 0.6026 - accuracy: 0.8158INFO:tensorflow:Assets written to: my_model_76/assets\n",
      "1/1 [==============================] - 3s 3s/step - loss: 0.6026 - accuracy: 0.8158 - val_loss: 0.4027 - val_accuracy: 1.0000\n",
      "Epoch 77/100\n",
      "1/1 [==============================] - ETA: 0s - loss: 0.5344 - accuracy: 0.8816INFO:tensorflow:Assets written to: my_model_77/assets\n",
      "1/1 [==============================] - 4s 4s/step - loss: 0.5344 - accuracy: 0.8816 - val_loss: 0.4005 - val_accuracy: 1.0000\n",
      "Epoch 78/100\n",
      "1/1 [==============================] - ETA: 0s - loss: 0.5528 - accuracy: 0.8026INFO:tensorflow:Assets written to: my_model_78/assets\n",
      "1/1 [==============================] - 4s 4s/step - loss: 0.5528 - accuracy: 0.8026 - val_loss: 0.3979 - val_accuracy: 1.0000\n",
      "Epoch 79/100\n",
      "1/1 [==============================] - ETA: 0s - loss: 0.5681 - accuracy: 0.8158INFO:tensorflow:Assets written to: my_model_79/assets\n",
      "1/1 [==============================] - 3s 3s/step - loss: 0.5681 - accuracy: 0.8158 - val_loss: 0.3944 - val_accuracy: 1.0000\n",
      "Epoch 80/100\n",
      "1/1 [==============================] - ETA: 0s - loss: 0.6010 - accuracy: 0.7763INFO:tensorflow:Assets written to: my_model_80/assets\n",
      "1/1 [==============================] - 4s 4s/step - loss: 0.6010 - accuracy: 0.7763 - val_loss: 0.3919 - val_accuracy: 1.0000\n",
      "Epoch 81/100\n",
      "1/1 [==============================] - ETA: 0s - loss: 0.5441 - accuracy: 0.7895INFO:tensorflow:Assets written to: my_model_81/assets\n",
      "1/1 [==============================] - 3s 3s/step - loss: 0.5441 - accuracy: 0.7895 - val_loss: 0.3892 - val_accuracy: 1.0000\n",
      "Epoch 82/100\n",
      "1/1 [==============================] - ETA: 0s - loss: 0.5777 - accuracy: 0.7368INFO:tensorflow:Assets written to: my_model_82/assets\n",
      "1/1 [==============================] - 4s 4s/step - loss: 0.5777 - accuracy: 0.7368 - val_loss: 0.3866 - val_accuracy: 1.0000\n",
      "Epoch 83/100\n",
      "1/1 [==============================] - ETA: 0s - loss: 0.5683 - accuracy: 0.8289INFO:tensorflow:Assets written to: my_model_83/assets\n",
      "1/1 [==============================] - 4s 4s/step - loss: 0.5683 - accuracy: 0.8289 - val_loss: 0.3848 - val_accuracy: 1.0000\n",
      "Epoch 84/100\n",
      "1/1 [==============================] - ETA: 0s - loss: 0.5671 - accuracy: 0.8421INFO:tensorflow:Assets written to: my_model_84/assets\n",
      "1/1 [==============================] - 4s 4s/step - loss: 0.5671 - accuracy: 0.8421 - val_loss: 0.3820 - val_accuracy: 1.0000\n",
      "Epoch 85/100\n",
      "1/1 [==============================] - ETA: 0s - loss: 0.5160 - accuracy: 0.8684INFO:tensorflow:Assets written to: my_model_85/assets\n",
      "1/1 [==============================] - 3s 3s/step - loss: 0.5160 - accuracy: 0.8684 - val_loss: 0.3789 - val_accuracy: 1.0000\n",
      "Epoch 86/100\n",
      "1/1 [==============================] - ETA: 0s - loss: 0.5216 - accuracy: 0.8684INFO:tensorflow:Assets written to: my_model_86/assets\n",
      "1/1 [==============================] - 4s 4s/step - loss: 0.5216 - accuracy: 0.8684 - val_loss: 0.3755 - val_accuracy: 1.0000\n",
      "Epoch 87/100\n",
      "1/1 [==============================] - ETA: 0s - loss: 0.5277 - accuracy: 0.8026INFO:tensorflow:Assets written to: my_model_87/assets\n",
      "1/1 [==============================] - 3s 3s/step - loss: 0.5277 - accuracy: 0.8026 - val_loss: 0.3713 - val_accuracy: 1.0000\n",
      "Epoch 88/100\n",
      "1/1 [==============================] - ETA: 0s - loss: 0.5563 - accuracy: 0.8158INFO:tensorflow:Assets written to: my_model_88/assets\n",
      "1/1 [==============================] - 3s 3s/step - loss: 0.5563 - accuracy: 0.8158 - val_loss: 0.3665 - val_accuracy: 1.0000\n",
      "Epoch 89/100\n",
      "1/1 [==============================] - ETA: 0s - loss: 0.5462 - accuracy: 0.8158INFO:tensorflow:Assets written to: my_model_89/assets\n",
      "1/1 [==============================] - 4s 4s/step - loss: 0.5462 - accuracy: 0.8158 - val_loss: 0.3630 - val_accuracy: 1.0000\n",
      "Epoch 90/100\n",
      "1/1 [==============================] - ETA: 0s - loss: 0.5477 - accuracy: 0.8421INFO:tensorflow:Assets written to: my_model_90/assets\n",
      "1/1 [==============================] - 3s 3s/step - loss: 0.5477 - accuracy: 0.8421 - val_loss: 0.3599 - val_accuracy: 1.0000\n",
      "Epoch 91/100\n",
      "1/1 [==============================] - ETA: 0s - loss: 0.5399 - accuracy: 0.8684INFO:tensorflow:Assets written to: my_model_91/assets\n",
      "1/1 [==============================] - 3s 3s/step - loss: 0.5399 - accuracy: 0.8684 - val_loss: 0.3579 - val_accuracy: 1.0000\n",
      "Epoch 92/100\n",
      "1/1 [==============================] - ETA: 0s - loss: 0.4715 - accuracy: 0.8947INFO:tensorflow:Assets written to: my_model_92/assets\n",
      "1/1 [==============================] - 3s 3s/step - loss: 0.4715 - accuracy: 0.8947 - val_loss: 0.3554 - val_accuracy: 1.0000\n",
      "Epoch 93/100\n",
      "1/1 [==============================] - ETA: 0s - loss: 0.4616 - accuracy: 0.9211INFO:tensorflow:Assets written to: my_model_93/assets\n",
      "1/1 [==============================] - 4s 4s/step - loss: 0.4616 - accuracy: 0.9211 - val_loss: 0.3527 - val_accuracy: 1.0000\n",
      "Epoch 94/100\n",
      "1/1 [==============================] - ETA: 0s - loss: 0.5247 - accuracy: 0.8553INFO:tensorflow:Assets written to: my_model_94/assets\n",
      "1/1 [==============================] - 3s 3s/step - loss: 0.5247 - accuracy: 0.8553 - val_loss: 0.3497 - val_accuracy: 1.0000\n",
      "Epoch 95/100\n",
      "1/1 [==============================] - ETA: 0s - loss: 0.5042 - accuracy: 0.8684INFO:tensorflow:Assets written to: my_model_95/assets\n",
      "1/1 [==============================] - 3s 3s/step - loss: 0.5042 - accuracy: 0.8684 - val_loss: 0.3469 - val_accuracy: 1.0000\n",
      "Epoch 96/100\n",
      "1/1 [==============================] - ETA: 0s - loss: 0.5030 - accuracy: 0.8421INFO:tensorflow:Assets written to: my_model_96/assets\n",
      "1/1 [==============================] - 4s 4s/step - loss: 0.5030 - accuracy: 0.8421 - val_loss: 0.3458 - val_accuracy: 1.0000\n",
      "Epoch 97/100\n",
      "1/1 [==============================] - ETA: 0s - loss: 0.4927 - accuracy: 0.9605INFO:tensorflow:Assets written to: my_model_97/assets\n",
      "1/1 [==============================] - 3s 3s/step - loss: 0.4927 - accuracy: 0.9605 - val_loss: 0.3452 - val_accuracy: 1.0000\n",
      "Epoch 98/100\n",
      "1/1 [==============================] - ETA: 0s - loss: 0.4931 - accuracy: 0.8421INFO:tensorflow:Assets written to: my_model_98/assets\n",
      "1/1 [==============================] - 3s 3s/step - loss: 0.4931 - accuracy: 0.8421 - val_loss: 0.3454 - val_accuracy: 1.0000\n",
      "Epoch 99/100\n",
      "1/1 [==============================] - ETA: 0s - loss: 0.5426 - accuracy: 0.8289INFO:tensorflow:Assets written to: my_model_99/assets\n",
      "1/1 [==============================] - 4s 4s/step - loss: 0.5426 - accuracy: 0.8289 - val_loss: 0.3454 - val_accuracy: 1.0000\n",
      "Epoch 100/100\n",
      "1/1 [==============================] - ETA: 0s - loss: 0.4579 - accuracy: 0.9342INFO:tensorflow:Assets written to: my_model_100/assets\n",
      "1/1 [==============================] - 4s 4s/step - loss: 0.4579 - accuracy: 0.9342 - val_loss: 0.3455 - val_accuracy: 1.0000\n"
     ]
    },
    {
     "data": {
      "text/html": [
       "Waiting for W&B process to finish... <strong style=\"color:green\">(success).</strong>"
      ],
      "text/plain": [
       "<IPython.core.display.HTML object>"
      ]
     },
     "metadata": {},
     "output_type": "display_data"
    }
   ],
   "source": [
    "# Launch 2 experiments, trying different dropout rates\n",
    "for run in range(2):\n",
    "    \n",
    "    # Start a run, tracking hyperparameters\n",
    "    wandb.init(\n",
    "        project=\"ml-in-prod\",\n",
    "        config={\n",
    "        \n",
    "            \"activation_1\": \"relu\",\n",
    "            \"dropout\": random.uniform(0.2, 0.5),\n",
    "            \"optimizer\": \"adam\",\n",
    "            \"loss\": \"binary_crossentropy\",\n",
    "            \"metric\": \"accuracy\",\n",
    "            \"epoch\": 100,\n",
    "            \"batch_size\": 128,\n",
    "        },\n",
    "    )\n",
    "    config = wandb.config\n",
    "    \n",
    "    # Define tu modelo\n",
    "    model = tf.keras.models.Sequential([\n",
    "        tf.keras.layers.Conv2D(32, (3, 3), padding='same', activation='relu', input_shape=(32,32,3)),\n",
    "        tf.keras.layers.BatchNormalization(),\n",
    "        tf.keras.layers.Conv2D(32, (3, 3), padding='same', activation='relu'),\n",
    "        tf.keras.layers.BatchNormalization(),\n",
    "        tf.keras.layers.MaxPooling2D((2, 2)),\n",
    "        tf.keras.layers.Dropout(0.3),\n",
    "\n",
    "        tf.keras.layers.Conv2D(64, (3, 3), padding='same', activation='relu'),\n",
    "        tf.keras.layers.BatchNormalization(),\n",
    "        tf.keras.layers.Conv2D(64, (3, 3), padding='same', activation='relu'),\n",
    "        tf.keras.layers.BatchNormalization(),\n",
    "        tf.keras.layers.MaxPooling2D((2, 2)),\n",
    "        tf.keras.layers.Dropout(config.dropout),\n",
    "\n",
    "        tf.keras.layers.Flatten(),\n",
    "        tf.keras.layers.Dense(64, activation='relu'),\n",
    "        tf.keras.layers.BatchNormalization(),\n",
    "        tf.keras.layers.Dropout(config.dropout),\n",
    "        tf.keras.layers.Dense(2, activation='sigmoid')\n",
    "    ])\n",
    "\n",
    "    # Compila y entrena el modelo\n",
    "    model.compile(optimizer=config.optimizer, loss=config.loss, metrics=[config.metric])\n",
    "\n",
    "    # Add WandbMetricsLogger to log metrics and WandbModelCheckpoint to log model checkpoints\n",
    "\n",
    "    wandb_callbacks = [\n",
    "        WandbMetricsLogger(),\n",
    "        ModelCheckpoint(filepath=\"my_model_{epoch:02d}\"),\n",
    "    ]\n",
    "\n",
    "    history = model.fit(x_train, y_train, batch_size=config.batch_size, epochs=config.epoch, validation_data=(x_test, y_test), callbacks=wandb_callbacks)\n",
    "    \n",
    "    wandb.finish()\n"
   ]
  },
  {
   "cell_type": "code",
   "execution_count": null,
   "id": "99befd71-3272-4724-b246-75afca4c8072",
   "metadata": {},
   "outputs": [],
   "source": [
    "def plot_history(history):\n",
    "    history_df = pd.DataFrame(history.history)\n",
    "    plt.figure(figsize=(12, 6))\n",
    "\n",
    "    plt.subplot(1, 2, 1)\n",
    "    plt.plot(history_df['accuracy'], label='Training')\n",
    "    plt.plot(history_df['val_accuracy'], label='Validation')\n",
    "    plt.title('Model Accuracy')\n",
    "    plt.xlabel('Epochs')\n",
    "    plt.ylabel('Accuracy')\n",
    "    plt.legend()\n",
    "\n",
    "    plt.subplot(1, 2, 2)\n",
    "    plt.plot(history_df['loss'], label='Training')\n",
    "    plt.plot(history_df['val_loss'], label='Validation')\n",
    "    plt.title('Model Loss')\n",
    "    plt.xlabel('Epochs')\n",
    "    plt.ylabel('Loss')\n",
    "    plt.legend()\n",
    "\n",
    "    plt.savefig('training_validation_plots.png')\n",
    "    plt.show()\n",
    "\n",
    "# Call the plotting function to display the graphs\n",
    "plot_history(history)\n",
    "\n",
    "# Save the trained model\n",
    "model.save('conv.h5')"
   ]
  },
  {
   "cell_type": "code",
   "execution_count": null,
   "id": "2a26440b-e643-4cbd-86c1-56021f02d68a",
   "metadata": {},
   "outputs": [],
   "source": []
  }
 ],
 "metadata": {
  "kernelspec": {
   "display_name": "Python 3.8 - AzureML",
   "language": "python",
   "name": "python38-azureml"
  },
  "language_info": {
   "codemirror_mode": {
    "name": "ipython",
    "version": 3
   },
   "file_extension": ".py",
   "mimetype": "text/x-python",
   "name": "python",
   "nbconvert_exporter": "python",
   "pygments_lexer": "ipython3",
   "version": "3.8.5"
  }
 },
 "nbformat": 4,
 "nbformat_minor": 5
}
